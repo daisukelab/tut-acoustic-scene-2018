{
 "cells": [
  {
   "cell_type": "code",
   "execution_count": 1,
   "metadata": {},
   "outputs": [
    {
     "name": "stderr",
     "output_type": "stream",
     "text": [
      "Using TensorFlow backend.\n"
     ]
    }
   ],
   "source": [
    "# Preparation\n",
    "import os\n",
    "import sys\n",
    "import shutil\n",
    "import pandas as pd\n",
    "import numpy as np\n",
    "from matplotlib import pyplot as plt\n",
    "%matplotlib inline\n",
    "\n",
    "sys.path.append('common')\n",
    "sys.path.append('external')\n",
    "import util\n",
    "from domain_modules import *\n",
    "from domain_models import *\n",
    "\n",
    "DATAROOT = os.path.join(os.path.expanduser('~'), '.kaggle/competitions/acoustic-scene-2018')"
   ]
  },
  {
   "cell_type": "code",
   "execution_count": 2,
   "metadata": {},
   "outputs": [],
   "source": [
    "y_labels_train = pd.read_csv(os.path.join(DATAROOT, 'y_train.csv'), sep=',')['scene_label'].tolist()\n",
    "labels = sorted(list(set(y_labels_train)))\n",
    "label2int = {l:i for i, l in enumerate(labels)}\n",
    "num_classes = len(labels)\n",
    "y_train_org = np.array([label2int[l] for l in y_labels_train])\n",
    "splitlist = pd.read_csv(os.path.join(DATAROOT, 'crossvalidation_train.csv'), sep=',')['set'].tolist()\n",
    "y_valid_ref = np.array([y for i, y in enumerate(y_train_org) if splitlist[i] == 'test'])"
   ]
  },
  {
   "cell_type": "code",
   "execution_count": 3,
   "metadata": {},
   "outputs": [
    {
     "name": "stdout",
     "output_type": "stream",
     "text": [
      "Ensembled Accuracy (Best objective value) = 0.841720779221\n",
      "Optimum weights = [ 0.35817796  0.292873    0.31946865]\n",
      "Wrote arithmetic mean preds to: base_event_time_opt_ens_arith_mean_submission.csv\n",
      "Ensembled Accuracy (Best objective value) = 0.841720779221\n",
      "Optimum weights = [ 0.3530285   0.31018993  0.29398109]\n",
      "Wrote geometric mean preds to: base_event_time_opt_ens_geo_mean_submission.csv\n"
     ]
    }
   ],
   "source": [
    "from Simple import SimpleTuner\n",
    "\n",
    "def weighted_arithmetic_mean_preds(preds, weights):\n",
    "    '''Calculates weighted ensembled predictions'''\n",
    "    norm_weights = weights / np.sum(weights)\n",
    "    return np.average(preds, axis=0, weights=norm_weights)\n",
    "\n",
    "def weighted_geometric_mean_preds(preds, weights):\n",
    "    '''Calculates weighted ensembled predictions'''\n",
    "    norm_weights = weights / np.sum(weights)\n",
    "    predictions = np.ones_like(preds[0])\n",
    "    for pred, weight in zip(preds, weights):\n",
    "        predictions = (1.0 - weight)*predictions + weight*predictions*pred\n",
    "    predictions = predictions**(1./len(preds))\n",
    "    return predictions\n",
    "\n",
    "def weighted_mean_preds(preds, weights, weighted_mean_fn=weighted_arithmetic_mean_preds):\n",
    "    return weighted_mean_fn(preds, weights)\n",
    "\n",
    "def weighted_mean_pred_cls(preds, weights, weighted_mean_fn=weighted_arithmetic_mean_preds):\n",
    "    '''Calculates weighted ensembled prediction results'''\n",
    "    return np.argmax(weighted_mean_preds(preds, weights, weighted_mean_fn), axis=1)\n",
    "\n",
    "def weighted_mean_acc(preds, weights, ref_cls,\n",
    "                                 weighted_mean_fn=weighted_arithmetic_mean_preds):\n",
    "    '''Calculates accuracy for a set of weights'''\n",
    "    y_ensemble_pred_cls = weighted_mean_pred_cls(preds, weights, weighted_mean_fn)\n",
    "    n_eq = [result == ref for result, ref in zip(y_ensemble_pred_cls, ref_cls)]\n",
    "    return np.sum(n_eq) / len(y_ensemble_pred_cls)\n",
    "\n",
    "class EnsembleOptimizer:\n",
    "    def __init__(self, pred_apps, labels, y_train_ref, mean_type='geometric'):\n",
    "        self.labels = labels\n",
    "        self.mean_type = mean_type\n",
    "        self.weighted_mean_fn = weighted_arithmetic_mean_preds \\\n",
    "            if mean_type == 'arithmetic' else weighted_geometric_mean_preds\n",
    "        # List of train/test preds\n",
    "        self.train_preds = []\n",
    "        self.test_preds = []\n",
    "        for app in pred_apps:\n",
    "            self.train_preds.append(np.load(app + '/valid_preds.npy'))\n",
    "            self.test_preds.append(np.load(app + '/test_preds.npy'))\n",
    "        # Load y_train reference\n",
    "        self.y_train_ref = y_train_ref\n",
    "    def _train_weighted_mean_acc(self, weights):\n",
    "        acc = weighted_mean_acc(self.train_preds, weights, self.y_train_ref, self.weighted_mean_fn)\n",
    "        #print(weights, acc)\n",
    "        return acc\n",
    "    def optimize(self, submission_filename):\n",
    "        weight_dim = len(self.train_preds)\n",
    "        optimization_domain_vertices = [[0] * weight_dim for _ in range(weight_dim + 1)]\n",
    "        for i in range(1, weight_dim + 1):\n",
    "            optimization_domain_vertices[i][i - 1] = 1\n",
    "        number_of_iterations = 3000\n",
    "        exploration = 0.01 # optional, default 0.15\n",
    "        # Optimize weights\n",
    "        tuner = SimpleTuner(optimization_domain_vertices, self._train_weighted_mean_acc,\n",
    "                            exploration_preference=exploration)\n",
    "        tuner.optimize(number_of_iterations)\n",
    "        self.best_objective_value, self.best_weights = tuner.get_best()\n",
    "        print('Ensembled Accuracy (Best objective value) =', self.best_objective_value)\n",
    "        print('Optimum weights =', self.best_weights)\n",
    "        self._write_weighted_test_result(submission_filename)\n",
    "    def _write_weighted_test_result(self, submission_filename):\n",
    "        #train_preds, test_preds, y_train_ref, labels\n",
    "        predictions = weighted_mean_preds(self.test_preds, self.best_weights, self.weighted_mean_fn)\n",
    "        # Make a ensembled submission file\n",
    "        top_labels = [self.labels[np.argmax(pred)] for pred in predictions]\n",
    "        with open(submission_filename, 'w') as f:\n",
    "            f.writelines(['Id,Scene_label\\n'])\n",
    "            f.writelines(['%d,%s\\n' % (i, label) for i, label in enumerate(top_labels)])\n",
    "        print('Wrote %s mean preds to:' % self.mean_type, submission_filename)\n",
    "\n",
    "pred_apps = ['base_clr_randers_mixup', \n",
    "             'event_pattern',\n",
    "             'timewise_mean']\n",
    "ensemble_optimizer = EnsembleOptimizer(pred_apps, labels=labels, y_train_ref=y_valid_ref, mean_type='arithmetic')\n",
    "ensemble_optimizer.optimize('base_event_time_opt_ens_arith_mean_submission.csv')\n",
    "ensemble_optimizer = EnsembleOptimizer(pred_apps, labels=labels, y_train_ref=y_valid_ref, mean_type='geometric')\n",
    "ensemble_optimizer.optimize('base_event_time_opt_ens_geo_mean_submission.csv')"
   ]
  },
  {
   "cell_type": "code",
   "execution_count": 24,
   "metadata": {},
   "outputs": [
    {
     "name": "stdout",
     "output_type": "stream",
     "text": [
      "Ensembled Accuracy (Best objective value) = 0.858766233766\n",
      "Optimum weights = [ 0.40899306  0.17953915  0.14747649  0.21167794]\n",
      "Wrote arithmetic mean preds to: base_event2_time_opt_ens_arith_mean_submission.csv\n",
      "Ensembled Accuracy (Best objective value) = 0.859577922078\n",
      "Optimum weights = [ 0.3213005   0.18376267  0.20541213  0.26858041]\n",
      "Wrote geometric mean preds to: base_event2_time_opt_ens_geo_mean_submission.csv\n"
     ]
    }
   ],
   "source": [
    "pred_apps = ['base_clr_randers_mixup',\n",
    "             'event_pattern',\n",
    "             'event_pattern_alexnet',\n",
    "             'timewise_mean',\n",
    "]\n",
    "ensemble_optimizer = EnsembleOptimizer(pred_apps, labels=labels, y_train_ref=y_valid_ref, mean_type='arithmetic')\n",
    "ensemble_optimizer.optimize('base_event2_time_opt_ens_arith_mean_submission.csv')\n",
    "ensemble_optimizer = EnsembleOptimizer(pred_apps, labels=labels, y_train_ref=y_valid_ref, mean_type='geometric')\n",
    "ensemble_optimizer.optimize('base_event2_time_opt_ens_geo_mean_submission.csv')"
   ]
  },
  {
   "cell_type": "code",
   "execution_count": 26,
   "metadata": {},
   "outputs": [
    {
     "name": "stdout",
     "output_type": "stream",
     "text": [
      "Ensembled Accuracy (Best objective value) = 0.849837662338\n",
      "Optimum weights = [ 0.60389057  0.31677588]\n",
      "Wrote arithmetic mean preds to: base_eventalex_opt_ens_arith_mean_submission.csv\n",
      "Ensembled Accuracy (Best objective value) = 0.852272727273\n",
      "Optimum weights = [ 0.56429143  0.40923397]\n",
      "Wrote geometric mean preds to: base_eventalex_opt_ens_geo_mean_submission.csv\n"
     ]
    }
   ],
   "source": [
    "pred_apps = ['base_clr_randers_mixup',\n",
    "             'event_pattern_alexnet',\n",
    "]\n",
    "ensemble_optimizer = EnsembleOptimizer(pred_apps, labels=labels, y_train_ref=y_valid_ref, mean_type='arithmetic')\n",
    "ensemble_optimizer.optimize('base_eventalex_opt_ens_arith_mean_submission.csv')\n",
    "ensemble_optimizer = EnsembleOptimizer(pred_apps, labels=labels, y_train_ref=y_valid_ref, mean_type='geometric')\n",
    "ensemble_optimizer.optimize('base_eventalex_opt_ens_geo_mean_submission.csv')"
   ]
  },
  {
   "cell_type": "code",
   "execution_count": 21,
   "metadata": {},
   "outputs": [
    {
     "name": "stdout",
     "output_type": "stream",
     "text": [
      "Ensembled Accuracy (Best objective value) = 0.82711038961\n",
      "Optimum weights = [ 0.51733185  0.4104946 ]\n",
      "Wrote arithmetic mean preds to: base_time_opt_ens_arith_mean_submission.csv\n",
      "Ensembled Accuracy (Best objective value) = 0.828733766234\n",
      "Optimum weights = [ 0.49658243  0.40668303]\n",
      "Wrote geometric mean preds to: base_time_opt_ens_geo_mean_submission.csv\n"
     ]
    }
   ],
   "source": [
    "pred_apps = ['base_clr_randers_mixup', \n",
    "             #'event_pattern',\n",
    "             'timewise_mean'\n",
    "]\n",
    "ensemble_optimizer = EnsembleOptimizer(pred_apps, labels=labels, y_train_ref=y_valid_ref, mean_type='arithmetic')\n",
    "ensemble_optimizer.optimize('base_time_opt_ens_arith_mean_submission.csv')\n",
    "ensemble_optimizer = EnsembleOptimizer(pred_apps, labels=labels, y_train_ref=y_valid_ref, mean_type='geometric')\n",
    "ensemble_optimizer.optimize('base_time_opt_ens_geo_mean_submission.csv')"
   ]
  },
  {
   "cell_type": "code",
   "execution_count": 22,
   "metadata": {},
   "outputs": [
    {
     "name": "stdout",
     "output_type": "stream",
     "text": [
      "Ensembled Accuracy (Best objective value) = 0.833603896104\n",
      "Optimum weights = [ 0.55645813  0.27725353]\n",
      "Wrote arithmetic mean preds to: base_event_opt_ens_arith_mean_submission.csv\n",
      "Ensembled Accuracy (Best objective value) = 0.833603896104\n",
      "Optimum weights = [ 0.48243248  0.32977935]\n",
      "Wrote geometric mean preds to: base_event_opt_ens_geo_mean_submission.csv\n"
     ]
    }
   ],
   "source": [
    "pred_apps = ['base_clr_randers_mixup', \n",
    "             'event_pattern',\n",
    "             #'timewise_mean'\n",
    "]\n",
    "ensemble_optimizer = EnsembleOptimizer(pred_apps, labels=labels, y_train_ref=y_valid_ref, mean_type='arithmetic')\n",
    "ensemble_optimizer.optimize('base_event_opt_ens_arith_mean_submission.csv')\n",
    "ensemble_optimizer = EnsembleOptimizer(pred_apps, labels=labels, y_train_ref=y_valid_ref, mean_type='geometric')\n",
    "ensemble_optimizer.optimize('base_event_opt_ens_geo_mean_submission.csv')"
   ]
  },
  {
   "cell_type": "code",
   "execution_count": null,
   "metadata": {
    "collapsed": true
   },
   "outputs": [],
   "source": []
  }
 ],
 "metadata": {
  "kernelspec": {
   "display_name": "Python 3",
   "language": "python",
   "name": "python3"
  },
  "language_info": {
   "codemirror_mode": {
    "name": "ipython",
    "version": 3
   },
   "file_extension": ".py",
   "mimetype": "text/x-python",
   "name": "python",
   "nbconvert_exporter": "python",
   "pygments_lexer": "ipython3",
   "version": "3.6.2"
  }
 },
 "nbformat": 4,
 "nbformat_minor": 2
}
