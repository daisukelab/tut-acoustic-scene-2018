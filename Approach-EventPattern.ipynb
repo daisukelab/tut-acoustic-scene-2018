{
 "cells": [
  {
   "cell_type": "code",
   "execution_count": 1,
   "metadata": {},
   "outputs": [
    {
     "name": "stderr",
     "output_type": "stream",
     "text": [
      "Using TensorFlow backend.\n"
     ]
    }
   ],
   "source": [
    "# Preparation\n",
    "import os\n",
    "import sys\n",
    "import shutil\n",
    "import pandas as pd\n",
    "import numpy as np\n",
    "from matplotlib import pyplot as plt\n",
    "%matplotlib inline\n",
    "\n",
    "sys.path.append('common')\n",
    "sys.path.append('external')\n",
    "import util\n",
    "from domain_modules import *\n",
    "from domain_models import *\n",
    "\n",
    "import keras\n",
    "import keras.backend as K\n",
    "from keras.layers import Dense, Conv2D, MaxPooling2D, GlobalMaxPooling2D, Activation, Dropout, BatchNormalization, Flatten\n",
    "from keras.models import Sequential\n",
    "from keras.preprocessing.image import ImageDataGenerator\n",
    "from keras.callbacks import ModelCheckpoint, Callback, TensorBoard\n",
    "\n",
    "DATAROOT = os.path.join(os.path.expanduser('~'), '.kaggle/competitions/acoustic-scene-2018')"
   ]
  },
  {
   "cell_type": "code",
   "execution_count": 2,
   "metadata": {},
   "outputs": [
    {
     "name": "stdout",
     "output_type": "stream",
     "text": [
      "Applied special X modifier\n"
     ]
    }
   ],
   "source": [
    "def pseudo_background_subtraction(X_train, X_valid, X_test):\n",
    "    '''Subtract sample-wise mean = pseudo background subtraction'''\n",
    "    X_train = np.array([X - np.mean(X, axis=1, keepdims=True) for X in X_train])\n",
    "    X_valid = np.array([X - np.mean(X, axis=1, keepdims=True) for X in X_valid])\n",
    "    X_test = np.array([X - np.mean(X, axis=1, keepdims=True) for X in X_test])\n",
    "    return X_train, X_valid, X_test\n",
    "\n",
    "d = Dataset(DATAROOT, X_modifier=pseudo_background_subtraction)"
   ]
  },
  {
   "cell_type": "code",
   "execution_count": 3,
   "metadata": {},
   "outputs": [
    {
     "name": "stdout",
     "output_type": "stream",
     "text": [
      "_________________________________________________________________\n",
      "Layer (type)                 Output Shape              Param #   \n",
      "=================================================================\n",
      "conv2d_1 (Conv2D)            (None, 40, 251, 64)       1408      \n",
      "_________________________________________________________________\n",
      "max_pooling2d_1 (MaxPooling2 (None, 19, 251, 64)       0         \n",
      "_________________________________________________________________\n",
      "batch_normalization_1 (Batch (None, 19, 251, 64)       256       \n",
      "_________________________________________________________________\n",
      "conv2d_2 (Conv2D)            (None, 19, 251, 128)      57472     \n",
      "_________________________________________________________________\n",
      "max_pooling2d_2 (MaxPooling2 (None, 8, 125, 128)       0         \n",
      "_________________________________________________________________\n",
      "batch_normalization_2 (Batch (None, 8, 125, 128)       512       \n",
      "_________________________________________________________________\n",
      "conv2d_3 (Conv2D)            (None, 4, 125, 128)       82048     \n",
      "_________________________________________________________________\n",
      "batch_normalization_3 (Batch (None, 4, 125, 128)       512       \n",
      "_________________________________________________________________\n",
      "conv2d_4 (Conv2D)            (None, 4, 125, 128)       82048     \n",
      "_________________________________________________________________\n",
      "global_max_pooling2d_1 (Glob (None, 128)               0         \n",
      "_________________________________________________________________\n",
      "dropout_1 (Dropout)          (None, 128)               0         \n",
      "_________________________________________________________________\n",
      "batch_normalization_4 (Batch (None, 128)               512       \n",
      "_________________________________________________________________\n",
      "dense_1 (Dense)              (None, 64)                8256      \n",
      "_________________________________________________________________\n",
      "dropout_2 (Dropout)          (None, 64)                0         \n",
      "_________________________________________________________________\n",
      "dense_2 (Dense)              (None, 64)                4160      \n",
      "_________________________________________________________________\n",
      "dropout_3 (Dropout)          (None, 64)                0         \n",
      "_________________________________________________________________\n",
      "dense_3 (Dense)              (None, 15)                975       \n",
      "=================================================================\n",
      "Total params: 238,159\n",
      "Trainable params: 237,263\n",
      "Non-trainable params: 896\n",
      "_________________________________________________________________\n"
     ]
    }
   ],
   "source": [
    "K.clear_session()\n",
    "\n",
    "model = model_cnn7_for_event_pattern(d.X_train.shape[1:], d.num_classes, lr=0.00007)\n",
    "model.summary()"
   ]
  },
  {
   "cell_type": "code",
   "execution_count": 4,
   "metadata": {},
   "outputs": [
    {
     "name": "stdout",
     "output_type": "stream",
     "text": [
      "using cyclic lr\n",
      "_________________________________________________________________\n",
      "Layer (type)                 Output Shape              Param #   \n",
      "=================================================================\n",
      "conv2d_1 (Conv2D)            (None, 40, 251, 64)       1408      \n",
      "_________________________________________________________________\n",
      "max_pooling2d_1 (MaxPooling2 (None, 19, 251, 64)       0         \n",
      "_________________________________________________________________\n",
      "batch_normalization_1 (Batch (None, 19, 251, 64)       256       \n",
      "_________________________________________________________________\n",
      "conv2d_2 (Conv2D)            (None, 19, 251, 128)      57472     \n",
      "_________________________________________________________________\n",
      "max_pooling2d_2 (MaxPooling2 (None, 8, 125, 128)       0         \n",
      "_________________________________________________________________\n",
      "batch_normalization_2 (Batch (None, 8, 125, 128)       512       \n",
      "_________________________________________________________________\n",
      "conv2d_3 (Conv2D)            (None, 4, 125, 128)       82048     \n",
      "_________________________________________________________________\n",
      "batch_normalization_3 (Batch (None, 4, 125, 128)       512       \n",
      "_________________________________________________________________\n",
      "conv2d_4 (Conv2D)            (None, 4, 125, 128)       82048     \n",
      "_________________________________________________________________\n",
      "global_max_pooling2d_1 (Glob (None, 128)               0         \n",
      "_________________________________________________________________\n",
      "dropout_1 (Dropout)          (None, 128)               0         \n",
      "_________________________________________________________________\n",
      "batch_normalization_4 (Batch (None, 128)               512       \n",
      "_________________________________________________________________\n",
      "dense_1 (Dense)              (None, 64)                8256      \n",
      "_________________________________________________________________\n",
      "dropout_2 (Dropout)          (None, 64)                0         \n",
      "_________________________________________________________________\n",
      "dense_2 (Dense)              (None, 64)                4160      \n",
      "_________________________________________________________________\n",
      "dropout_3 (Dropout)          (None, 64)                0         \n",
      "_________________________________________________________________\n",
      "dense_3 (Dense)              (None, 15)                975       \n",
      "=================================================================\n",
      "Total params: 238,159\n",
      "Trainable params: 237,263\n",
      "Non-trainable params: 896\n",
      "_________________________________________________________________\n",
      "event_pattern valid acc = 0.716720779221\n",
      "wrote to event_pattern/submit_event_pattern.csv\n"
     ]
    }
   ],
   "source": [
    "trainer = Trainer('event_pattern', d, model, 0.00007, 500, 32,\n",
    "                  use_cyclic_lr=True, use_random_eraser=True, use_mixup=True)\n",
    "trainer.fit()\n",
    "after_fit(trainer, model)\n",
    "fine_tune(trainer, model)"
   ]
  },
  {
   "cell_type": "code",
   "execution_count": null,
   "metadata": {
    "collapsed": true
   },
   "outputs": [],
   "source": []
  }
 ],
 "metadata": {
  "kernelspec": {
   "display_name": "Python 3",
   "language": "python",
   "name": "python3"
  },
  "language_info": {
   "codemirror_mode": {
    "name": "ipython",
    "version": 3
   },
   "file_extension": ".py",
   "mimetype": "text/x-python",
   "name": "python",
   "nbconvert_exporter": "python",
   "pygments_lexer": "ipython3",
   "version": "3.6.2"
  }
 },
 "nbformat": 4,
 "nbformat_minor": 2
}
